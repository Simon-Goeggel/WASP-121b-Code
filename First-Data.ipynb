{
 "cells": [
  {
   "cell_type": "code",
   "execution_count": null,
   "id": "12738b02",
   "metadata": {},
   "outputs": [],
   "source": [
    "import numpy as np # creating a short cut to acces numpy faster in future code\n",
    "import matplotlib.pyplot as plt #importing matplotlib tool as a shortcut to be able to plot my conclusions. \n",
    "from numpy import loadtxt #importing a usefull tool from numpy\n",
    "\n",
    "def read(file): #defining a new function to read in external files\n",
    "    data = loadtxt(file) #calling the extracted file data\n",
    "    data_new = data.transpose() # transposing the values, so I only got 3 rows of data and can acces it easier\n",
    "    time = data_new[0] #the first row in this transposed data is the time the observations were made \n",
    "    flux = data_new[1] #the second row is the flux of the star\n",
    "    error = data_new[2] #the last row is the error for the y-values(flux)\n",
    "    \n",
    "    return time, flux, error #returning three lists containing the unpacked values\n",
    "\n",
    "\n",
    "\n",
    "\n",
    "\n",
    "time, flux, error = read(\"Transit_model_LC_data.txt\") #taking the values outside of my function to make them globally accesibble \n",
    "#code is from 2021 project"
   ]
  },
  {
   "cell_type": "code",
   "execution_count": null,
   "id": "781d7fa3",
   "metadata": {},
   "outputs": [],
   "source": [
    "import batman                         #importing the batman module to help plotting the transit curve\n",
    "\n",
    "\n",
    "params = batman.TransitParams()       #object to store transit parameters\n",
    "params.t0 = 3.75                        #time of inferior conjunction\n",
    "params.per = 4.78                        #orbital period\n",
    "params.rp = 0.09                       #planet radius (in units of stellar radii)\n",
    "params.a = 10.                        #semi-major axis (in units of stellar radii)\n",
    "params.inc = 87.                      #orbital inclination (in degrees)\n",
    "params.ecc = 0.                       #eccentricity\n",
    "params.w = 0.                        #longitude of periastron (in degrees)\n",
    "params.limb_dark = \"nonlinear\"        #limb darkening model\n",
    "params.u = [0.5, 0.1, 0.1, -0.1]      #limb darkening coefficients [u1, u2, u3, u4]\n",
    "\n",
    "\n",
    "m = batman.TransitModel(params, time)    #initializes model\n",
    "flux_bat = m.light_curve(params)          #calculates light curve\n"
   ]
  },
  {
   "cell_type": "code",
   "execution_count": null,
   "id": "afce75cc",
   "metadata": {
    "scrolled": false
   },
   "outputs": [],
   "source": [
    "fig = plt.figure(figsize=(20, 20)) # increasing the plot size to better distinguish between the values\n",
    "plt.errorbar(time, flux, fmt='.', yerr=error) #plotting the errorbar\n",
    "plt.plot(time, flux,\"o\") #plotting the time for the x-axis and the radial velocity for the y-axis\n",
    "plt.plot(time, flux_bat)\n",
    "plt.title(f\"Exoplanet\", fontsize=40)\n",
    "plt.xlabel('Time in Days', fontsize=40)\n",
    "plt.ylabel('Flux ', fontsize=40)\n",
    "plt.xticks(fontsize=20)\n",
    "plt.yticks(fontsize=20)\n",
    "plt.show()"
   ]
  },
  {
   "cell_type": "code",
   "execution_count": null,
   "id": "b0a773e5",
   "metadata": {},
   "outputs": [],
   "source": [
    "from scipy.optimize import minimize #importing important modules\n",
    "import math\n"
   ]
  },
  {
   "cell_type": "code",
   "execution_count": null,
   "id": "3d060931",
   "metadata": {},
   "outputs": [],
   "source": [
    "m = batman.TransitModel(params, time)    #initializes model\n",
    "flux_bat = m.light_curve(params)\n",
    "\n",
    "def fun(x0,a , b, c):#defining a function that returns a gaussian value to be minimised\n",
    "   \n",
    "    params.t0 = x0[0]                        #time of inferior conjunction\n",
    "    params.per = x0[1]                       #orbital period\n",
    "    params.rp = x0[2]                       #planet radius (in units of stellar radii)\n",
    "    params.a = x0[3]                       #semi-major axis (in units of stellar radii)\n",
    "    params.inc = x0[4]                      #orbital inclination (in degrees)\n",
    "    params.ecc = 0.                       #eccentricity\n",
    "    params.w = 0.                       #longitude of periastron (in degrees)\n",
    "    params.limb_dark = \"nonlinear\"        #limb darkening model\n",
    "    params.u = [0.5,0.1,0.1,-0.1]\n",
    "    \n",
    "    \n",
    "    \n",
    "    \n",
    "    flux_bat = m.light_curve(params)\n",
    "    if 0. < x0[0]  and 0.0 < x0[1] and 0.0 < x0[2] and 0.0 < x0[3] and 0.0 < x0[4] < 90  : #setting physical boundaries for some parameters\n",
    "        return sum(((b-flux_bat)/c)**2)\n",
    "    else:\n",
    "         return float('inf')\n",
    "\n",
    "    \n",
    "         \n",
    "\n",
    "    \n",
    "                       "
   ]
  },
  {
   "cell_type": "code",
   "execution_count": null,
   "id": "30e7b763",
   "metadata": {},
   "outputs": [],
   "source": [
    "x0 = [3.75,4.78,0.09,10.,87.] #using my estimated parameters as starting parameters\n",
    "\n",
    "res = minimize(fun, x0, args = (time, flux, error), method='Nelder-Mead', tol=1e-6 ) #running the minimize function\n",
    "x = res.x.tolist() #saving the minimised values as a list\n",
    "true = res.x #saving the minimised values as an array"
   ]
  },
  {
   "cell_type": "code",
   "execution_count": null,
   "id": "9eff2b24",
   "metadata": {},
   "outputs": [],
   "source": [
    "params = batman.TransitParams()       #object to store transit parameters\n",
    "params.t0 = x[0]                        #time of inferior conjunction\n",
    "params.per = x[1]                       #orbital period\n",
    "params.rp = x[2]                       #planet radius (in units of stellar radii)\n",
    "params.a = x[3]                       #semi-major axis (in units of stellar radii)\n",
    "params.inc = x[4]                      #orbital inclination (in degrees)\n",
    "params.ecc = 0.                       #eccentricity\n",
    "params.w = 0.                       #longitude of periastron (in degrees)\n",
    "params.limb_dark = \"nonlinear\"        #limb darkening model\n",
    "params.u = [0.5,0.1,0.1,-0.1]\n",
    "flux_bat1 = m.light_curve(params)"
   ]
  },
  {
   "cell_type": "code",
   "execution_count": null,
   "id": "c1a2586c",
   "metadata": {
    "scrolled": true
   },
   "outputs": [],
   "source": [
    "\n",
    "fig = plt.figure(figsize=(10, 10)) # increasing the plot size to better distinguish between the values\n",
    "plt.errorbar(time, flux, fmt='.', yerr=error) #plotting the errorbar\n",
    "plt.plot(time, flux,\"o\") #plotting the time for the x-axis and the radial velocity for the y-axis\n",
    "plt.plot(time, flux_bat1)\n",
    "plt.title(f\"Exoplanet\", fontsize=40)\n",
    "plt.xlabel('Time in Days', fontsize=20)\n",
    "plt.ylabel('Flux ', fontsize=20)\n",
    "plt.xticks(fontsize=10)\n",
    "plt.yticks(fontsize=10)\n",
    "plt.show() #plotting with my minimised values"
   ]
  },
  {
   "cell_type": "code",
   "execution_count": null,
   "id": "05d87db2",
   "metadata": {},
   "outputs": [],
   "source": [
    "phase= np.mod(time-x[0],x[1])/x[1] # creating a phased plot for all the values\n",
    "phase[phase>0.5 ]-=1\n",
    "\n",
    "m = batman.TransitModel(params, phase)\n",
    "plt.plot(phase, flux,\"o\")\n",
    "plt.errorbar(phase, flux,  fmt='o', yerr=error)\n",
    "\n",
    "plt.plot(phase, flux_bat, '-.')\n",
    "    \n",
    "\n"
   ]
  },
  {
   "cell_type": "code",
   "execution_count": null,
   "id": "0660f297",
   "metadata": {},
   "outputs": [],
   "source": [
    "m = batman.TransitModel(params, time)\n",
    "theta = x #naming my minimised values from minimize theta\n",
    "def log_likelihood(theta, time_fun, flux_fun, error_fun): # creating a log likelihood function for my emcee module\n",
    "    \n",
    "    \n",
    "    params = batman.TransitParams()       #object to store transit parameters\n",
    "    params.t0 = theta[0]                        #time of inferior conjunction\n",
    "    params.per = theta[1]                 #orbital period\n",
    "    params.rp = theta[2]                      #planet radius (in units of stellar radii)\n",
    "    params.a = theta[3]                        #semi-major axis (in units of stellar radii)\n",
    "    params.inc = theta[4]                      #orbital inclination (in degrees)\n",
    "    params.ecc = 0.                       #eccentricity\n",
    "    params.w = 0.                       #longitude of periastron (in degrees)\n",
    "    params.limb_dark = \"nonlinear\"        #limb darkening model\n",
    "    params.u = [0.5,0.1,0.1,-0.1]  \n",
    "    model = m.light_curve(params)\n",
    "    \n",
    "    \n",
    "   \n",
    "    return -0.5 * np.sum(((flux_fun - model) / error_fun)**2)\n"
   ]
  },
  {
   "cell_type": "code",
   "execution_count": null,
   "id": "1399eb4a",
   "metadata": {},
   "outputs": [],
   "source": [
    "def log_prior(theta): #creating a log prior that checks if the values are in the physical boundaries\n",
    "    \n",
    "    if 0. < theta[0] <10 and 0.0 < theta[1] < 10 and 0.0 < theta[2] < 1 and 0.0 < theta[3] < 50 and 0.0 < theta[4] < 90  :\n",
    "        return 0.0\n",
    "  \n",
    "        \n",
    "    return -np.inf\n",
    "    "
   ]
  },
  {
   "cell_type": "code",
   "execution_count": null,
   "id": "6f4806d3",
   "metadata": {},
   "outputs": [],
   "source": [
    "\n",
    "def log_probability(theta, time_fun, flux_fun, error_fun): #creating a log probability function\n",
    "    lp = log_prior(theta)\n",
    "    \n",
    "    if not np.isfinite(lp):\n",
    "        return -np.inf\n",
    "    return lp + log_likelihood(theta, time_fun, flux_fun, error_fun)\n",
    "    "
   ]
  },
  {
   "cell_type": "code",
   "execution_count": null,
   "id": "c6d8b381",
   "metadata": {},
   "outputs": [],
   "source": [
    "\n",
    "import emcee # importing the emcee module\n",
    "ndim = 5 # creating a dimension for every value I need to fit\n",
    "nwalkers = 50 #creating a number of walkers for the MCMC\n",
    "pos = true + 1e-4 * np.random.randn(50, 5) #creating a semi-random starting point for the walkers\n",
    "nwalkers, ndim = pos.shape\n",
    "sampler = emcee.EnsembleSampler(\n",
    "    nwalkers, ndim, log_probability, args=( time, flux, error),\n",
    "moves=emcee.moves.StretchMove()) #creating a sampler for my MCMC \n",
    "sampler.run_mcmc(pos , 5000, progress=True); #letting my emcee run 5000 times"
   ]
  },
  {
   "cell_type": "code",
   "execution_count": null,
   "id": "7cbdc619",
   "metadata": {
    "scrolled": false
   },
   "outputs": [],
   "source": [
    "labels = [\"Time(0)\",\"Orbital\" \"Period\",\"Planet\"\" Radius\", \"Semi-Major\"\" Axis\" ,\"Orbital\"\" Inclination\"]#creating a list of labels for my plot\n",
    "fig, axes = plt.subplots(5, figsize=(10, 7), sharex=True)\n",
    "samples = sampler.get_chain()\n",
    "\n",
    "for i in range(ndim): #creating five plots for the MCMC values\n",
    "    ax = axes[i]\n",
    "    \n",
    "\n",
    "    ax.plot(samples[:, :, i], \"k\", alpha=0.3)\n",
    "    ax.set_xlim(0, len(samples))\n",
    "    ax.set_ylabel(labels[i])"
   ]
  },
  {
   "cell_type": "code",
   "execution_count": null,
   "id": "5a7013ec",
   "metadata": {},
   "outputs": [],
   "source": [
    "labels = [\"Time\" \"\" \"of\" \"Inferior\" \"Conjunction\",\"Orbital\" \"Period\",\"Planet\"\" Radius\", \"Semi-Major\"\" Axis\" ,\"Orbital\"\" Inclination\"]\n",
    "import corner\n",
    "\n",
    "flat_samples = sampler.get_chain( flat=True) #creating corner plots for the results of the MCMC with the blue line being the value calculated by minimize\n",
    "fig = corner.corner(\n",
    "    flat_samples,   truths= true, labels = labels\n",
    ")"
   ]
  },
  {
   "cell_type": "code",
   "execution_count": null,
   "id": "de178ea6",
   "metadata": {
    "scrolled": false
   },
   "outputs": [],
   "source": [
    "from IPython.display import display, Math\n",
    "results1 = [] #creating a list to store the emcee value of my result\n",
    "result1_uncertainty = []\n",
    "for i in range(ndim): #printing the mean values and the corresponding one-sigma value\n",
    "    mcmc = np.percentile(flat_samples[:, i], [16, 50, 84])\n",
    "    q = np.diff(mcmc)\n",
    "    txt = \"\\mathrm{{{3}}} = {0:.3f}_{{-{1:.3f}}}^{{{2:.3f}}}\"\n",
    "    txt = txt.format(mcmc[1], q[0], q[1], labels[i])\n",
    "    display(Math(txt))\n",
    "    result1_uncertainty.append([ mcmc[1], q[0], q[1]])\n",
    "    results1.append(mcmc[1])\n"
   ]
  },
  {
   "cell_type": "code",
   "execution_count": null,
   "id": "e9640adc",
   "metadata": {},
   "outputs": [],
   "source": [
    "t = np.linspace(time[0], time[-1], 2000) # plotting the lightcurve from the emcee values over my data\n",
    "params = batman.TransitParams()       #object to store transit parameters\n",
    "params.t0 = results1[0]                     #time of inferior conjunction\n",
    "params.per = results1[1]                      #orbital period\n",
    "params.rp = results1[2]                       #planet radius (in units of stellar radii)\n",
    "params.a = results1[3]                        #semi-major axis (in units of stellar radii)\n",
    "params.inc = results1[4]                      #orbital inclination (in degrees)\n",
    "params.ecc = 0.                       #eccentricity\n",
    "params.w = 0.                       #longitude of periastron (in degrees)\n",
    "params.limb_dark = \"nonlinear\"        #limb darkening model\n",
    "params.u = [0.5,0.1,0.1,-0.1] \n",
    "m = batman.TransitModel(params, t)    #initializes model\n",
    "flux_bat = m.light_curve(params)\n",
    "\n",
    "fig = plt.figure(figsize=(10, 10))\n",
    "plt.plot(time, flux,\"o\")\n",
    "plt.errorbar(time, flux, fmt='.', yerr=error) #plotting the errorbar\n",
    "plt.plot(t, flux_bat)\n",
    "plt.title(f\"Exoplanet\", fontsize=40)\n",
    "plt.xlabel('Time in Days', fontsize=20)\n",
    "plt.ylabel('Flux ', fontsize=20)\n",
    "plt.xticks(fontsize=10)\n",
    "plt.yticks(fontsize=10)\n",
    "plt.show() # plotting the data and the light curve with the parameter values from emcee"
   ]
  },
  {
   "cell_type": "code",
   "execution_count": null,
   "id": "d77c79b5",
   "metadata": {},
   "outputs": [],
   "source": []
  }
 ],
 "metadata": {
  "kernelspec": {
   "display_name": "Python 3 (ipykernel)",
   "language": "python",
   "name": "python3"
  },
  "language_info": {
   "codemirror_mode": {
    "name": "ipython",
    "version": 3
   },
   "file_extension": ".py",
   "mimetype": "text/x-python",
   "name": "python",
   "nbconvert_exporter": "python",
   "pygments_lexer": "ipython3",
   "version": "3.9.12"
  }
 },
 "nbformat": 4,
 "nbformat_minor": 5
}
